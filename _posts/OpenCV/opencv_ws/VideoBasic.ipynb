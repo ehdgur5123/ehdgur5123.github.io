{
 "cells": [
  {
   "cell_type": "markdown",
   "metadata": {},
   "source": [
    "# 1. 비디오 읽기"
   ]
  },
  {
   "cell_type": "code",
   "execution_count": 1,
   "metadata": {},
   "outputs": [
    {
     "name": "stdout",
     "output_type": "stream",
     "text": [
      "Error opening video stream or file\n"
     ]
    }
   ],
   "source": [
    "import cv2\n",
    "\n",
    "# Open video file or capture device\n",
    "cap = cv2.VideoCapture('video_file.mp4')  # For a file\n",
    "# cap = cv2.VideoCapture(0)  # For a webcam\n",
    "\n",
    "# Check if video opened successfully\n",
    "if not cap.isOpened():\n",
    "    print(\"Error opening video stream or file\")\n",
    "\n",
    "# Read until the video is completed\n",
    "while cap.isOpened():\n",
    "    ret, frame = cap.read()  # Capture frame-by-frame\n",
    "    if ret:\n",
    "        # Display the frame\n",
    "        cv2.imshow('Frame', frame)\n",
    "\n",
    "        # Break the loop on 'q' key press\n",
    "        if cv2.waitKey(25) & 0xFF == ord('q'):\n",
    "            break\n",
    "    else:\n",
    "        break\n",
    "\n",
    "# Release the video capture object\n",
    "cap.release()\n",
    "cv2.destroyAllWindows()\n"
   ]
  },
  {
   "cell_type": "code",
   "execution_count": 2,
   "metadata": {},
   "outputs": [],
   "source": [
    "import cv2\n",
    "\n",
    "# Define the codec and create a VideoWriter object\n",
    "fourcc = cv2.VideoWriter_fourcc(*'XVID')\n",
    "out = cv2.VideoWriter('output.avi', fourcc, 20.0, (640, 480))\n",
    "\n",
    "cap = cv2.VideoCapture('input_video.mp4')\n",
    "\n",
    "while cap.isOpened():\n",
    "    ret, frame = cap.read()\n",
    "    if ret:\n",
    "        # Write the frame\n",
    "        out.write(frame)\n",
    "\n",
    "        # Display the frame\n",
    "        cv2.imshow('Frame', frame)\n",
    "\n",
    "        if cv2.waitKey(1) & 0xFF == ord('q'):\n",
    "            break\n",
    "    else:\n",
    "        break\n",
    "\n",
    "cap.release()\n",
    "out.release()\n",
    "cv2.destroyAllWindows()\n"
   ]
  },
  {
   "cell_type": "code",
   "execution_count": 3,
   "metadata": {},
   "outputs": [
    {
     "name": "stderr",
     "output_type": "stream",
     "text": [
      "qt.qpa.plugin: Could not find the Qt platform plugin \"wayland\" in \"/usr/local/lib/python3.10/dist-packages/cv2/qt/plugins\"\n"
     ]
    }
   ],
   "source": [
    "import cv2\n",
    "\n",
    "# 카메라(웹캠) 장치 열기 (장치 번호 0은 기본 웹캠)\n",
    "cap = cv2.VideoCapture(0)\n",
    "\n",
    "# 동영상 저장을 위한 코덱과 파일 설정\n",
    "# fourcc: 비디오 코덱 (여기서는 XVID 코덱 사용)\n",
    "# VideoWriter: 파일 이름, 코덱, FPS(초당 프레임 수), 프레임 크기 설정\n",
    "fourcc = cv2.VideoWriter_fourcc(*'XVID')  # XVID 코덱\n",
    "out = cv2.VideoWriter('output.avi', fourcc, 20.0, (640, 480))  # 20 FPS, 640x480 크기\n",
    "\n",
    "# 카메라가 정상적으로 열렸는지 확인\n",
    "if not cap.isOpened():\n",
    "    print(\"카메라를 열 수 없습니다.\")\n",
    "    exit()\n",
    "\n",
    "# 영상 촬영 루프\n",
    "while True:\n",
    "    # 카메라로부터 프레임 읽기\n",
    "    ret, frame = cap.read()\n",
    "\n",
    "    if ret:\n",
    "        # 파일에 현재 프레임 쓰기\n",
    "        out.write(frame)\n",
    "\n",
    "        # 현재 프레임 화면에 보여주기\n",
    "        cv2.imshow('Video Frame', frame)\n",
    "\n",
    "        # 'q' 키를 누르면 루프 종료\n",
    "        if cv2.waitKey(1) & 0xFF == ord('q'):\n",
    "            break\n",
    "    else:\n",
    "        break\n",
    "\n",
    "# 모든 작업 완료 후 카메라와 파일 닫기\n",
    "cap.release()  # 카메라 해제\n",
    "out.release()  # 파일 해제\n",
    "cv2.destroyAllWindows()  # 창 닫기\n"
   ]
  },
  {
   "cell_type": "code",
   "execution_count": null,
   "metadata": {},
   "outputs": [],
   "source": []
  }
 ],
 "metadata": {
  "kernelspec": {
   "display_name": "Python 3",
   "language": "python",
   "name": "python3"
  },
  "language_info": {
   "codemirror_mode": {
    "name": "ipython",
    "version": 3
   },
   "file_extension": ".py",
   "mimetype": "text/x-python",
   "name": "python",
   "nbconvert_exporter": "python",
   "pygments_lexer": "ipython3",
   "version": "3.10.12"
  }
 },
 "nbformat": 4,
 "nbformat_minor": 2
}
