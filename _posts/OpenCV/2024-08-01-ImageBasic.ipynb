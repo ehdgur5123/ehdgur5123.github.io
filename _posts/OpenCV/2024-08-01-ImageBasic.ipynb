{
 "cells": [
  {
   "cell_type": "markdown",
   "metadata": {},
   "source": [
    "# 기본적인 이미지 읽기, 표시, 저장"
   ]
  },
  {
   "cell_type": "code",
   "execution_count": null,
   "metadata": {},
   "outputs": [],
   "source": [
    "import cv2\n",
    "\n",
    "img_src = \"/home/lee/Vscode_ws/python_ws/opencv_ws/images/logo.jpg\"\n",
    "\n",
    "# 이미지 읽기\n",
    "img = cv2.imread(img_src)\n",
    "\n",
    "# 이미지 창에 표시\n",
    "cv2.imshow('Title', img)\n",
    "\n",
    "# 키 입력 대기 (0이면 무한 대기)\n",
    "cv2.waitKey(0)\n",
    "\n",
    "# 창 닫기\n",
    "cv2.destroyAllWindows()\n",
    "\n",
    "# 이미지 저장 \n",
    "cv2.imwrite('output.jpg', img)"
   ]
  },
  {
   "cell_type": "markdown",
   "metadata": {},
   "source": [
    "- `cv2.imread()` : 파일에서 이미지를 읽습니다.\n",
    "- `cv2.imshow()` : 이미지를 화면에 출력합니다.\n",
    "- `cv2.waitKey()` : 사용자의 키 입력을 기다리며, 이 값이 0이면 무한정 대기합니다.\n",
    "- `cv2.destroyAllWindows()` : 열려 있는 모든 창을 닫습니다.\n",
    "- `cv2.imwrite()` : 이미지를 파일로 저장합니다."
   ]
  },
  {
   "cell_type": "markdown",
   "metadata": {},
   "source": [
    "# 이미지 크기 변경(Resizing)"
   ]
  },
  {
   "cell_type": "code",
   "execution_count": 4,
   "metadata": {},
   "outputs": [],
   "source": [
    "import cv2\n",
    "img_src = \"/home/lee/Vscode_ws/python_ws/opencv_ws/images/logo.jpg\"\n",
    "img = cv2.imread(img_src)\n",
    "\n",
    "# 이미지 크기 변경\n",
    "img_resized = cv2.resize(img, (300, 300))\n",
    "\n",
    "cv2.imshow('resized image', img_resized)\n",
    "cv2.waitKey(0)\n",
    "cv2.destroyAllWindows()\n"
   ]
  },
  {
   "cell_type": "markdown",
   "metadata": {},
   "source": [
    "# 그레이스케일 변환"
   ]
  },
  {
   "cell_type": "code",
   "execution_count": 5,
   "metadata": {},
   "outputs": [],
   "source": [
    "import cv2\n",
    "img_src = \"/home/lee/Vscode_ws/python_ws/opencv_ws/images/logo.jpg\"\n",
    "img = cv2.imread(img_src)\n",
    "\n",
    "# 그레이스케일 변환\n",
    "gray_img = cv2.cvtColor(img, cv2.COLOR_BGR2GRAY)\n",
    "\n",
    "cv2.imshow('gray image', gray_img)\n",
    "cv2.waitKey(0)\n",
    "cv2.destroyAllWindows()\n"
   ]
  },
  {
   "cell_type": "markdown",
   "metadata": {},
   "source": [
    "# 경계선 검출(Canny Edge Detection)"
   ]
  },
  {
   "cell_type": "code",
   "execution_count": 6,
   "metadata": {},
   "outputs": [],
   "source": [
    "import cv2\n",
    "img_src = \"/home/lee/Vscode_ws/python_ws/opencv_ws/images/logo.jpg\"\n",
    "img = cv2.imread(img_src)\n",
    "\n",
    "# 경계선 검출\n",
    "edges = cv2.Canny(img, 100, 200)\n",
    "\n",
    "cv2.imshow('edges', edges)\n",
    "cv2.waitKey(0)\n",
    "cv2.destroyAllWindows()"
   ]
  }
 ],
 "metadata": {
  "kernelspec": {
   "display_name": "Python 3",
   "language": "python",
   "name": "python3"
  },
  "language_info": {
   "codemirror_mode": {
    "name": "ipython",
    "version": 3
   },
   "file_extension": ".py",
   "mimetype": "text/x-python",
   "name": "python",
   "nbconvert_exporter": "python",
   "pygments_lexer": "ipython3",
   "version": "3.10.12"
  }
 },
 "nbformat": 4,
 "nbformat_minor": 2
}
